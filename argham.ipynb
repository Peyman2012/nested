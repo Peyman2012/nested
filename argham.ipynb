{
 "cells": [
  {
   "cell_type": "code",
   "execution_count": 1,
   "metadata": {},
   "outputs": [
    {
     "name": "stdout",
     "output_type": "stream",
     "text": [
      "8765\t8756\t8675\t8657\t8576\t8567\t7865\t7856\t7685\t7658\t7586\t7568\t6875\t6857\t6785\t6758\t6587\t6578\t5876\t5867\t5786\t5768\t5687\t5678\t"
     ]
    }
   ],
   "source": [
    "for i in range(8,4,-1):\n",
    "    for j in range(8,4,-1):\n",
    "        for k in range(8,4,-1):\n",
    "            for m in range(8,4,-1):\n",
    "                if i==j or i==k or i==m or j==k or j==m or k==m :\n",
    "                    continue\n",
    "                else:\n",
    "                    print(i*1000+j*100+10*k+m,end='\\t')"
   ]
  },
  {
   "cell_type": "code",
   "execution_count": null,
   "metadata": {},
   "outputs": [],
   "source": []
  }
 ],
 "metadata": {
  "kernelspec": {
   "display_name": "Python 3",
   "language": "python",
   "name": "python3"
  },
  "language_info": {
   "codemirror_mode": {
    "name": "ipython",
    "version": 3
   },
   "file_extension": ".py",
   "mimetype": "text/x-python",
   "name": "python",
   "nbconvert_exporter": "python",
   "pygments_lexer": "ipython3",
   "version": "3.6.13"
  }
 },
 "nbformat": 4,
 "nbformat_minor": 2
}
